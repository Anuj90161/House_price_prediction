{
 "cells": [
  {
   "cell_type": "markdown",
   "id": "31ba1b28",
   "metadata": {},
   "source": [
    "## LAB 1\n",
    "\n",
    "## Data Loading"
   ]
  },
  {
   "cell_type": "code",
   "execution_count": 1,
   "id": "considered-aberdeen",
   "metadata": {
    "execution": {
     "iopub.execute_input": "2021-06-03T20:08:19.444417Z",
     "iopub.status.busy": "2021-06-03T20:08:19.443471Z",
     "iopub.status.idle": "2021-06-03T20:08:26.321443Z",
     "shell.execute_reply": "2021-06-03T20:08:26.320709Z",
     "shell.execute_reply.started": "2021-06-03T20:05:24.538163Z"
    },
    "papermill": {
     "duration": 6.907993,
     "end_time": "2021-06-03T20:08:26.321616",
     "exception": false,
     "start_time": "2021-06-03T20:08:19.413623",
     "status": "completed"
    },
    "tags": []
   },
   "outputs": [
    {
     "name": "stdout",
     "output_type": "stream",
     "text": [
      "WARNING:tensorflow:From C:\\Users\\gunja\\anaconda3\\lib\\site-packages\\keras\\src\\losses.py:2976: The name tf.losses.sparse_softmax_cross_entropy is deprecated. Please use tf.compat.v1.losses.sparse_softmax_cross_entropy instead.\n",
      "\n"
     ]
    }
   ],
   "source": [
    "#IMPORTING LIBRARIES\n",
    "import pandas as pd\n",
    "import numpy as np\n",
    "import matplotlib.pyplot as plt\n",
    "import seaborn as sns\n",
    "import tensorflow as tf"
   ]
  },
  {
   "cell_type": "code",
   "execution_count": 2,
   "id": "royal-principal",
   "metadata": {
    "execution": {
     "iopub.execute_input": "2021-06-03T20:08:26.367681Z",
     "iopub.status.busy": "2021-06-03T20:08:26.366928Z",
     "iopub.status.idle": "2021-06-03T20:08:26.508852Z",
     "shell.execute_reply": "2021-06-03T20:08:26.509344Z",
     "shell.execute_reply.started": "2021-06-03T20:05:24.553801Z"
    },
    "papermill": {
     "duration": 0.167728,
     "end_time": "2021-06-03T20:08:26.509512",
     "exception": false,
     "start_time": "2021-06-03T20:08:26.341784",
     "status": "completed"
    },
    "tags": []
   },
   "outputs": [
    {
     "data": {
      "text/html": [
       "<div>\n",
       "<style scoped>\n",
       "    .dataframe tbody tr th:only-of-type {\n",
       "        vertical-align: middle;\n",
       "    }\n",
       "\n",
       "    .dataframe tbody tr th {\n",
       "        vertical-align: top;\n",
       "    }\n",
       "\n",
       "    .dataframe thead th {\n",
       "        text-align: right;\n",
       "    }\n",
       "</style>\n",
       "<table border=\"1\" class=\"dataframe\">\n",
       "  <thead>\n",
       "    <tr style=\"text-align: right;\">\n",
       "      <th></th>\n",
       "      <th>id</th>\n",
       "      <th>date</th>\n",
       "      <th>price</th>\n",
       "      <th>bedrooms</th>\n",
       "      <th>bathrooms</th>\n",
       "      <th>sqft_living</th>\n",
       "      <th>sqft_lot</th>\n",
       "      <th>floors</th>\n",
       "      <th>waterfront</th>\n",
       "      <th>view</th>\n",
       "      <th>condition</th>\n",
       "      <th>grade</th>\n",
       "      <th>sqft_above</th>\n",
       "      <th>sqft_basement</th>\n",
       "      <th>yr_built</th>\n",
       "      <th>yr_renovated</th>\n",
       "      <th>zipcode</th>\n",
       "      <th>lat</th>\n",
       "      <th>long</th>\n",
       "      <th>sqft_living15</th>\n",
       "      <th>sqft_lot15</th>\n",
       "    </tr>\n",
       "  </thead>\n",
       "  <tbody>\n",
       "    <tr>\n",
       "      <th>0</th>\n",
       "      <td>7129300520</td>\n",
       "      <td>20141013T000000</td>\n",
       "      <td>221900.0</td>\n",
       "      <td>3</td>\n",
       "      <td>1.00</td>\n",
       "      <td>1180</td>\n",
       "      <td>5650</td>\n",
       "      <td>1.0</td>\n",
       "      <td>0</td>\n",
       "      <td>0</td>\n",
       "      <td>3</td>\n",
       "      <td>7</td>\n",
       "      <td>1180</td>\n",
       "      <td>0</td>\n",
       "      <td>1955</td>\n",
       "      <td>0</td>\n",
       "      <td>98178</td>\n",
       "      <td>47.5112</td>\n",
       "      <td>-122.257</td>\n",
       "      <td>1340</td>\n",
       "      <td>5650</td>\n",
       "    </tr>\n",
       "    <tr>\n",
       "      <th>1</th>\n",
       "      <td>6414100192</td>\n",
       "      <td>20141209T000000</td>\n",
       "      <td>538000.0</td>\n",
       "      <td>3</td>\n",
       "      <td>2.25</td>\n",
       "      <td>2570</td>\n",
       "      <td>7242</td>\n",
       "      <td>2.0</td>\n",
       "      <td>0</td>\n",
       "      <td>0</td>\n",
       "      <td>3</td>\n",
       "      <td>7</td>\n",
       "      <td>2170</td>\n",
       "      <td>400</td>\n",
       "      <td>1951</td>\n",
       "      <td>1991</td>\n",
       "      <td>98125</td>\n",
       "      <td>47.7210</td>\n",
       "      <td>-122.319</td>\n",
       "      <td>1690</td>\n",
       "      <td>7639</td>\n",
       "    </tr>\n",
       "    <tr>\n",
       "      <th>2</th>\n",
       "      <td>5631500400</td>\n",
       "      <td>20150225T000000</td>\n",
       "      <td>180000.0</td>\n",
       "      <td>2</td>\n",
       "      <td>1.00</td>\n",
       "      <td>770</td>\n",
       "      <td>10000</td>\n",
       "      <td>1.0</td>\n",
       "      <td>0</td>\n",
       "      <td>0</td>\n",
       "      <td>3</td>\n",
       "      <td>6</td>\n",
       "      <td>770</td>\n",
       "      <td>0</td>\n",
       "      <td>1933</td>\n",
       "      <td>0</td>\n",
       "      <td>98028</td>\n",
       "      <td>47.7379</td>\n",
       "      <td>-122.233</td>\n",
       "      <td>2720</td>\n",
       "      <td>8062</td>\n",
       "    </tr>\n",
       "    <tr>\n",
       "      <th>3</th>\n",
       "      <td>2487200875</td>\n",
       "      <td>20141209T000000</td>\n",
       "      <td>604000.0</td>\n",
       "      <td>4</td>\n",
       "      <td>3.00</td>\n",
       "      <td>1960</td>\n",
       "      <td>5000</td>\n",
       "      <td>1.0</td>\n",
       "      <td>0</td>\n",
       "      <td>0</td>\n",
       "      <td>5</td>\n",
       "      <td>7</td>\n",
       "      <td>1050</td>\n",
       "      <td>910</td>\n",
       "      <td>1965</td>\n",
       "      <td>0</td>\n",
       "      <td>98136</td>\n",
       "      <td>47.5208</td>\n",
       "      <td>-122.393</td>\n",
       "      <td>1360</td>\n",
       "      <td>5000</td>\n",
       "    </tr>\n",
       "    <tr>\n",
       "      <th>4</th>\n",
       "      <td>1954400510</td>\n",
       "      <td>20150218T000000</td>\n",
       "      <td>510000.0</td>\n",
       "      <td>3</td>\n",
       "      <td>2.00</td>\n",
       "      <td>1680</td>\n",
       "      <td>8080</td>\n",
       "      <td>1.0</td>\n",
       "      <td>0</td>\n",
       "      <td>0</td>\n",
       "      <td>3</td>\n",
       "      <td>8</td>\n",
       "      <td>1680</td>\n",
       "      <td>0</td>\n",
       "      <td>1987</td>\n",
       "      <td>0</td>\n",
       "      <td>98074</td>\n",
       "      <td>47.6168</td>\n",
       "      <td>-122.045</td>\n",
       "      <td>1800</td>\n",
       "      <td>7503</td>\n",
       "    </tr>\n",
       "  </tbody>\n",
       "</table>\n",
       "</div>"
      ],
      "text/plain": [
       "           id             date     price  bedrooms  bathrooms  sqft_living  \\\n",
       "0  7129300520  20141013T000000  221900.0         3       1.00         1180   \n",
       "1  6414100192  20141209T000000  538000.0         3       2.25         2570   \n",
       "2  5631500400  20150225T000000  180000.0         2       1.00          770   \n",
       "3  2487200875  20141209T000000  604000.0         4       3.00         1960   \n",
       "4  1954400510  20150218T000000  510000.0         3       2.00         1680   \n",
       "\n",
       "   sqft_lot  floors  waterfront  view  condition  grade  sqft_above  \\\n",
       "0      5650     1.0           0     0          3      7        1180   \n",
       "1      7242     2.0           0     0          3      7        2170   \n",
       "2     10000     1.0           0     0          3      6         770   \n",
       "3      5000     1.0           0     0          5      7        1050   \n",
       "4      8080     1.0           0     0          3      8        1680   \n",
       "\n",
       "   sqft_basement  yr_built  yr_renovated  zipcode      lat     long  \\\n",
       "0              0      1955             0    98178  47.5112 -122.257   \n",
       "1            400      1951          1991    98125  47.7210 -122.319   \n",
       "2              0      1933             0    98028  47.7379 -122.233   \n",
       "3            910      1965             0    98136  47.5208 -122.393   \n",
       "4              0      1987             0    98074  47.6168 -122.045   \n",
       "\n",
       "   sqft_living15  sqft_lot15  \n",
       "0           1340        5650  \n",
       "1           1690        7639  \n",
       "2           2720        8062  \n",
       "3           1360        5000  \n",
       "4           1800        7503  "
      ]
     },
     "execution_count": 2,
     "metadata": {},
     "output_type": "execute_result"
    }
   ],
   "source": [
    "#IMPORTING DATASET\n",
    "pd.set_option('display.max_columns',None)\n",
    "ds = pd.read_csv(r\"C:\\Users\\gunja\\Downloads\\kc_house_data.csv\\kc_house_data.csv\")\n",
    "ds.head()"
   ]
  },
  {
   "cell_type": "code",
   "execution_count": 3,
   "id": "extra-conclusion",
   "metadata": {
    "execution": {
     "iopub.execute_input": "2021-06-03T20:08:26.556258Z",
     "iopub.status.busy": "2021-06-03T20:08:26.555353Z",
     "iopub.status.idle": "2021-06-03T20:08:26.560182Z",
     "shell.execute_reply": "2021-06-03T20:08:26.559600Z",
     "shell.execute_reply.started": "2021-06-03T20:05:24.636252Z"
    },
    "papermill": {
     "duration": 0.029912,
     "end_time": "2021-06-03T20:08:26.560323",
     "exception": false,
     "start_time": "2021-06-03T20:08:26.530411",
     "status": "completed"
    },
    "tags": []
   },
   "outputs": [
    {
     "data": {
      "text/plain": [
       "(21613, 21)"
      ]
     },
     "execution_count": 3,
     "metadata": {},
     "output_type": "execute_result"
    }
   ],
   "source": [
    "#DATASET HAVE 21613 ROWS AND 21 FEATURES\n",
    "ds.shape"
   ]
  },
  {
   "cell_type": "code",
   "execution_count": 4,
   "id": "arbitrary-general",
   "metadata": {
    "execution": {
     "iopub.execute_input": "2021-06-03T20:08:26.625401Z",
     "iopub.status.busy": "2021-06-03T20:08:26.618667Z",
     "iopub.status.idle": "2021-06-03T20:08:26.632896Z",
     "shell.execute_reply": "2021-06-03T20:08:26.632292Z",
     "shell.execute_reply.started": "2021-06-03T20:05:24.644148Z"
    },
    "papermill": {
     "duration": 0.051199,
     "end_time": "2021-06-03T20:08:26.633043",
     "exception": false,
     "start_time": "2021-06-03T20:08:26.581844",
     "status": "completed"
    },
    "tags": []
   },
   "outputs": [
    {
     "data": {
      "text/html": [
       "<div>\n",
       "<style scoped>\n",
       "    .dataframe tbody tr th:only-of-type {\n",
       "        vertical-align: middle;\n",
       "    }\n",
       "\n",
       "    .dataframe tbody tr th {\n",
       "        vertical-align: top;\n",
       "    }\n",
       "\n",
       "    .dataframe thead th {\n",
       "        text-align: right;\n",
       "    }\n",
       "</style>\n",
       "<table border=\"1\" class=\"dataframe\">\n",
       "  <thead>\n",
       "    <tr style=\"text-align: right;\">\n",
       "      <th></th>\n",
       "      <th>price</th>\n",
       "      <th>bedrooms</th>\n",
       "      <th>bathrooms</th>\n",
       "      <th>sqft_living</th>\n",
       "      <th>sqft_lot</th>\n",
       "      <th>floors</th>\n",
       "      <th>waterfront</th>\n",
       "      <th>view</th>\n",
       "      <th>condition</th>\n",
       "      <th>grade</th>\n",
       "      <th>sqft_above</th>\n",
       "      <th>sqft_basement</th>\n",
       "      <th>yr_built</th>\n",
       "      <th>yr_renovated</th>\n",
       "      <th>zipcode</th>\n",
       "      <th>lat</th>\n",
       "      <th>long</th>\n",
       "      <th>sqft_living15</th>\n",
       "      <th>sqft_lot15</th>\n",
       "    </tr>\n",
       "  </thead>\n",
       "  <tbody>\n",
       "    <tr>\n",
       "      <th>0</th>\n",
       "      <td>221900.0</td>\n",
       "      <td>3</td>\n",
       "      <td>1.00</td>\n",
       "      <td>1180</td>\n",
       "      <td>5650</td>\n",
       "      <td>1.0</td>\n",
       "      <td>0</td>\n",
       "      <td>0</td>\n",
       "      <td>3</td>\n",
       "      <td>7</td>\n",
       "      <td>1180</td>\n",
       "      <td>0</td>\n",
       "      <td>1955</td>\n",
       "      <td>0</td>\n",
       "      <td>98178</td>\n",
       "      <td>47.5112</td>\n",
       "      <td>-122.257</td>\n",
       "      <td>1340</td>\n",
       "      <td>5650</td>\n",
       "    </tr>\n",
       "    <tr>\n",
       "      <th>1</th>\n",
       "      <td>538000.0</td>\n",
       "      <td>3</td>\n",
       "      <td>2.25</td>\n",
       "      <td>2570</td>\n",
       "      <td>7242</td>\n",
       "      <td>2.0</td>\n",
       "      <td>0</td>\n",
       "      <td>0</td>\n",
       "      <td>3</td>\n",
       "      <td>7</td>\n",
       "      <td>2170</td>\n",
       "      <td>400</td>\n",
       "      <td>1951</td>\n",
       "      <td>1991</td>\n",
       "      <td>98125</td>\n",
       "      <td>47.7210</td>\n",
       "      <td>-122.319</td>\n",
       "      <td>1690</td>\n",
       "      <td>7639</td>\n",
       "    </tr>\n",
       "    <tr>\n",
       "      <th>2</th>\n",
       "      <td>180000.0</td>\n",
       "      <td>2</td>\n",
       "      <td>1.00</td>\n",
       "      <td>770</td>\n",
       "      <td>10000</td>\n",
       "      <td>1.0</td>\n",
       "      <td>0</td>\n",
       "      <td>0</td>\n",
       "      <td>3</td>\n",
       "      <td>6</td>\n",
       "      <td>770</td>\n",
       "      <td>0</td>\n",
       "      <td>1933</td>\n",
       "      <td>0</td>\n",
       "      <td>98028</td>\n",
       "      <td>47.7379</td>\n",
       "      <td>-122.233</td>\n",
       "      <td>2720</td>\n",
       "      <td>8062</td>\n",
       "    </tr>\n",
       "    <tr>\n",
       "      <th>3</th>\n",
       "      <td>604000.0</td>\n",
       "      <td>4</td>\n",
       "      <td>3.00</td>\n",
       "      <td>1960</td>\n",
       "      <td>5000</td>\n",
       "      <td>1.0</td>\n",
       "      <td>0</td>\n",
       "      <td>0</td>\n",
       "      <td>5</td>\n",
       "      <td>7</td>\n",
       "      <td>1050</td>\n",
       "      <td>910</td>\n",
       "      <td>1965</td>\n",
       "      <td>0</td>\n",
       "      <td>98136</td>\n",
       "      <td>47.5208</td>\n",
       "      <td>-122.393</td>\n",
       "      <td>1360</td>\n",
       "      <td>5000</td>\n",
       "    </tr>\n",
       "    <tr>\n",
       "      <th>4</th>\n",
       "      <td>510000.0</td>\n",
       "      <td>3</td>\n",
       "      <td>2.00</td>\n",
       "      <td>1680</td>\n",
       "      <td>8080</td>\n",
       "      <td>1.0</td>\n",
       "      <td>0</td>\n",
       "      <td>0</td>\n",
       "      <td>3</td>\n",
       "      <td>8</td>\n",
       "      <td>1680</td>\n",
       "      <td>0</td>\n",
       "      <td>1987</td>\n",
       "      <td>0</td>\n",
       "      <td>98074</td>\n",
       "      <td>47.6168</td>\n",
       "      <td>-122.045</td>\n",
       "      <td>1800</td>\n",
       "      <td>7503</td>\n",
       "    </tr>\n",
       "  </tbody>\n",
       "</table>\n",
       "</div>"
      ],
      "text/plain": [
       "      price  bedrooms  bathrooms  sqft_living  sqft_lot  floors  waterfront  \\\n",
       "0  221900.0         3       1.00         1180      5650     1.0           0   \n",
       "1  538000.0         3       2.25         2570      7242     2.0           0   \n",
       "2  180000.0         2       1.00          770     10000     1.0           0   \n",
       "3  604000.0         4       3.00         1960      5000     1.0           0   \n",
       "4  510000.0         3       2.00         1680      8080     1.0           0   \n",
       "\n",
       "   view  condition  grade  sqft_above  sqft_basement  yr_built  yr_renovated  \\\n",
       "0     0          3      7        1180              0      1955             0   \n",
       "1     0          3      7        2170            400      1951          1991   \n",
       "2     0          3      6         770              0      1933             0   \n",
       "3     0          5      7        1050            910      1965             0   \n",
       "4     0          3      8        1680              0      1987             0   \n",
       "\n",
       "   zipcode      lat     long  sqft_living15  sqft_lot15  \n",
       "0    98178  47.5112 -122.257           1340        5650  \n",
       "1    98125  47.7210 -122.319           1690        7639  \n",
       "2    98028  47.7379 -122.233           2720        8062  \n",
       "3    98136  47.5208 -122.393           1360        5000  \n",
       "4    98074  47.6168 -122.045           1800        7503  "
      ]
     },
     "execution_count": 4,
     "metadata": {},
     "output_type": "execute_result"
    }
   ],
   "source": [
    "#REMOVING UNNECESSARY FEATURES\n",
    "ds.drop(['id','date'],axis = 1,inplace = True)\n",
    "ds.head()"
   ]
  },
  {
   "cell_type": "code",
   "execution_count": 5,
   "id": "democratic-selling",
   "metadata": {
    "execution": {
     "iopub.execute_input": "2021-06-03T20:08:26.681578Z",
     "iopub.status.busy": "2021-06-03T20:08:26.680555Z",
     "iopub.status.idle": "2021-06-03T20:08:26.689170Z",
     "shell.execute_reply": "2021-06-03T20:08:26.688615Z",
     "shell.execute_reply.started": "2021-06-03T20:05:24.672084Z"
    },
    "papermill": {
     "duration": 0.034558,
     "end_time": "2021-06-03T20:08:26.689324",
     "exception": false,
     "start_time": "2021-06-03T20:08:26.654766",
     "status": "completed"
    },
    "tags": []
   },
   "outputs": [
    {
     "data": {
      "text/plain": [
       "price            0\n",
       "bedrooms         0\n",
       "bathrooms        0\n",
       "sqft_living      0\n",
       "sqft_lot         0\n",
       "floors           0\n",
       "waterfront       0\n",
       "view             0\n",
       "condition        0\n",
       "grade            0\n",
       "sqft_above       0\n",
       "sqft_basement    0\n",
       "yr_built         0\n",
       "yr_renovated     0\n",
       "zipcode          0\n",
       "lat              0\n",
       "long             0\n",
       "sqft_living15    0\n",
       "sqft_lot15       0\n",
       "dtype: int64"
      ]
     },
     "execution_count": 5,
     "metadata": {},
     "output_type": "execute_result"
    }
   ],
   "source": [
    "#CHECKING FOR NULL VALUES\n",
    "ds.isnull().sum()"
   ]
  },
  {
   "cell_type": "markdown",
   "id": "whole-latvia",
   "metadata": {
    "papermill": {
     "duration": 0.021486,
     "end_time": "2021-06-03T20:08:26.732392",
     "exception": false,
     "start_time": "2021-06-03T20:08:26.710906",
     "status": "completed"
    },
    "tags": []
   },
   "source": [
    "**NO MISSING DATA**"
   ]
  },
  {
   "cell_type": "code",
   "execution_count": 6,
   "id": "speaking-breath",
   "metadata": {
    "execution": {
     "iopub.execute_input": "2021-06-03T20:08:26.796746Z",
     "iopub.status.busy": "2021-06-03T20:08:26.781535Z",
     "iopub.status.idle": "2021-06-03T20:08:26.801172Z",
     "shell.execute_reply": "2021-06-03T20:08:26.800479Z",
     "shell.execute_reply.started": "2021-06-03T20:05:24.694818Z"
    },
    "papermill": {
     "duration": 0.047215,
     "end_time": "2021-06-03T20:08:26.801324",
     "exception": false,
     "start_time": "2021-06-03T20:08:26.754109",
     "status": "completed"
    },
    "tags": []
   },
   "outputs": [
    {
     "name": "stdout",
     "output_type": "stream",
     "text": [
      "<class 'pandas.core.frame.DataFrame'>\n",
      "RangeIndex: 21613 entries, 0 to 21612\n",
      "Data columns (total 19 columns):\n",
      " #   Column         Non-Null Count  Dtype  \n",
      "---  ------         --------------  -----  \n",
      " 0   price          21613 non-null  float64\n",
      " 1   bedrooms       21613 non-null  int64  \n",
      " 2   bathrooms      21613 non-null  float64\n",
      " 3   sqft_living    21613 non-null  int64  \n",
      " 4   sqft_lot       21613 non-null  int64  \n",
      " 5   floors         21613 non-null  float64\n",
      " 6   waterfront     21613 non-null  int64  \n",
      " 7   view           21613 non-null  int64  \n",
      " 8   condition      21613 non-null  int64  \n",
      " 9   grade          21613 non-null  int64  \n",
      " 10  sqft_above     21613 non-null  int64  \n",
      " 11  sqft_basement  21613 non-null  int64  \n",
      " 12  yr_built       21613 non-null  int64  \n",
      " 13  yr_renovated   21613 non-null  int64  \n",
      " 14  zipcode        21613 non-null  int64  \n",
      " 15  lat            21613 non-null  float64\n",
      " 16  long           21613 non-null  float64\n",
      " 17  sqft_living15  21613 non-null  int64  \n",
      " 18  sqft_lot15     21613 non-null  int64  \n",
      "dtypes: float64(5), int64(14)\n",
      "memory usage: 3.1 MB\n"
     ]
    }
   ],
   "source": [
    "ds.info()"
   ]
  },
  {
   "cell_type": "code",
   "execution_count": 7,
   "id": "comfortable-hollywood",
   "metadata": {
    "execution": {
     "iopub.execute_input": "2021-06-03T20:08:26.853469Z",
     "iopub.status.busy": "2021-06-03T20:08:26.852776Z",
     "iopub.status.idle": "2021-06-03T20:08:26.857109Z",
     "shell.execute_reply": "2021-06-03T20:08:26.856498Z",
     "shell.execute_reply.started": "2021-06-03T20:05:24.715568Z"
    },
    "papermill": {
     "duration": 0.031483,
     "end_time": "2021-06-03T20:08:26.857273",
     "exception": false,
     "start_time": "2021-06-03T20:08:26.825790",
     "status": "completed"
    },
    "tags": []
   },
   "outputs": [
    {
     "data": {
      "text/plain": [
       "Index(['price', 'bedrooms', 'bathrooms', 'sqft_living', 'sqft_lot', 'floors',\n",
       "       'waterfront', 'view', 'condition', 'grade', 'sqft_above',\n",
       "       'sqft_basement', 'yr_built', 'yr_renovated', 'zipcode', 'lat', 'long',\n",
       "       'sqft_living15', 'sqft_lot15'],\n",
       "      dtype='object')"
      ]
     },
     "execution_count": 7,
     "metadata": {},
     "output_type": "execute_result"
    }
   ],
   "source": [
    "ds.columns"
   ]
  },
  {
   "cell_type": "markdown",
   "id": "324e495b",
   "metadata": {},
   "source": [
    "## Exploratory Data Analysis (EDA)"
   ]
  },
  {
   "cell_type": "code",
   "execution_count": 8,
   "id": "opened-revision",
   "metadata": {
    "execution": {
     "iopub.execute_input": "2021-06-03T20:08:26.928822Z",
     "iopub.status.busy": "2021-06-03T20:08:26.928041Z",
     "iopub.status.idle": "2021-06-03T20:08:27.467034Z",
     "shell.execute_reply": "2021-06-03T20:08:27.466275Z",
     "shell.execute_reply.started": "2021-06-03T20:05:24.724436Z"
    },
    "papermill": {
     "duration": 0.587471,
     "end_time": "2021-06-03T20:08:27.467207",
     "exception": false,
     "start_time": "2021-06-03T20:08:26.879736",
     "status": "completed"
    },
    "tags": []
   },
   "outputs": [
    {
     "data": {
      "text/plain": [
       "<Axes: title={'center': 'Correlation Matrix'}>"
      ]
     },
     "execution_count": 8,
     "metadata": {},
     "output_type": "execute_result"
    },
    {
     "data": {
      "image/png": "[encoded data removed]",
      "text/plain": [
       "<Figure size 1000x800 with 2 Axes>"
      ]
     },
     "metadata": {},
     "output_type": "display_data"
    }
   ],
   "source": [
    "corr = ds[['bathrooms', 'bedrooms', 'sqft_living', 'sqft_lot', 'floors', 'grade', 'price']]\n",
    "plt.figure(figsize=(10,8))\n",
    "plt.title('Correlation Matrix')\n",
    "sns.heatmap(corr.corr(),annot=True)"
   ]
  },
  {
   "cell_type": "code",
   "execution_count": 10,
   "id": "daily-rhythm",
   "metadata": {
    "execution": {
     "iopub.execute_input": "2021-06-03T20:08:27.625710Z",
     "iopub.status.busy": "2021-06-03T20:08:27.625039Z",
     "iopub.status.idle": "2021-06-03T20:08:27.634744Z",
     "shell.execute_reply": "2021-06-03T20:08:27.635244Z",
     "shell.execute_reply.started": "2021-06-03T20:05:25.247838Z"
    },
    "papermill": {
     "duration": 0.037474,
     "end_time": "2021-06-03T20:08:27.635437",
     "exception": false,
     "start_time": "2021-06-03T20:08:27.597963",
     "status": "completed"
    },
    "tags": []
   },
   "outputs": [],
   "source": [
    "#DIVIDING DATASET IN DEPENDENT AND INDEPENDENT VARIABLE\n",
    "x = ds.iloc[:,1:].values\n",
    "y = ds.iloc[:,0].values"
   ]
  },
  {
   "cell_type": "code",
   "execution_count": 11,
   "id": "fancy-fetish",
   "metadata": {
    "execution": {
     "iopub.execute_input": "2021-06-03T20:08:27.687594Z",
     "iopub.status.busy": "2021-06-03T20:08:27.686929Z",
     "iopub.status.idle": "2021-06-03T20:08:28.100627Z",
     "shell.execute_reply": "2021-06-03T20:08:28.099896Z",
     "shell.execute_reply.started": "2021-06-03T20:05:25.263810Z"
    },
    "papermill": {
     "duration": 0.441138,
     "end_time": "2021-06-03T20:08:28.100787",
     "exception": false,
     "start_time": "2021-06-03T20:08:27.659649",
     "status": "completed"
    },
    "tags": []
   },
   "outputs": [],
   "source": [
    "#SPLITTING DATASET IN TRAINING AND TESTING SET\n",
    "from sklearn.model_selection import train_test_split\n",
    "x_train,x_test,y_train,y_test = train_test_split(x,y,test_size = 0.2,random_state = 0)"
   ]
  },
  {
   "cell_type": "markdown",
   "id": "1c0344ff",
   "metadata": {},
   "source": [
    "## Data Building ANN \n",
    "\n",
    "Artificial Neural Network "
   ]
  },
  {
   "cell_type": "code",
   "execution_count": 12,
   "id": "olympic-image",
   "metadata": {
    "execution": {
     "iopub.execute_input": "2021-06-03T20:08:28.158265Z",
     "iopub.status.busy": "2021-06-03T20:08:28.157557Z",
     "iopub.status.idle": "2021-06-03T20:08:28.174044Z",
     "shell.execute_reply": "2021-06-03T20:08:28.173391Z",
     "shell.execute_reply.started": "2021-06-03T20:05:25.281663Z"
    },
    "papermill": {
     "duration": 0.046625,
     "end_time": "2021-06-03T20:08:28.174207",
     "exception": false,
     "start_time": "2021-06-03T20:08:28.127582",
     "status": "completed"
    },
    "tags": []
   },
   "outputs": [],
   "source": [
    "#FEATURE SCALING IS NECESSARY IN ANN\n",
    "from sklearn.preprocessing import StandardScaler\n",
    "sc = StandardScaler()\n",
    "x_train = sc.fit_transform(x_train)\n",
    "x_test = sc.transform(x_test)"
   ]
  },
  {
   "cell_type": "code",
   "execution_count": 13,
   "id": "pacific-tuning",
   "metadata": {
    "execution": {
     "iopub.execute_input": "2021-06-03T20:08:28.227330Z",
     "iopub.status.busy": "2021-06-03T20:08:28.226333Z",
     "iopub.status.idle": "2021-06-03T20:08:28.264857Z",
     "shell.execute_reply": "2021-06-03T20:08:28.265481Z",
     "shell.execute_reply.started": "2021-06-03T20:05:25.298480Z"
    },
    "papermill": {
     "duration": 0.066652,
     "end_time": "2021-06-03T20:08:28.265674",
     "exception": false,
     "start_time": "2021-06-03T20:08:28.199022",
     "status": "completed"
    },
    "tags": []
   },
   "outputs": [
    {
     "name": "stdout",
     "output_type": "stream",
     "text": [
      "WARNING:tensorflow:From C:\\Users\\gunja\\anaconda3\\lib\\site-packages\\keras\\src\\backend.py:873: The name tf.get_default_graph is deprecated. Please use tf.compat.v1.get_default_graph instead.\n",
      "\n"
     ]
    }
   ],
   "source": [
    "#CREATING THE ANN AS SEQUENCE OF LAYERS\n",
    "ann = tf.keras.models.Sequential()"
   ]
  },
  {
   "cell_type": "code",
   "execution_count": 14,
   "id": "impossible-station",
   "metadata": {
    "execution": {
     "iopub.execute_input": "2021-06-03T20:08:28.328059Z",
     "iopub.status.busy": "2021-06-03T20:08:28.327353Z",
     "iopub.status.idle": "2021-06-03T20:08:28.330138Z",
     "shell.execute_reply": "2021-06-03T20:08:28.330607Z",
     "shell.execute_reply.started": "2021-06-03T20:05:25.308263Z"
    },
    "papermill": {
     "duration": 0.03847,
     "end_time": "2021-06-03T20:08:28.330848",
     "exception": false,
     "start_time": "2021-06-03T20:08:28.292378",
     "status": "completed"
    },
    "tags": []
   },
   "outputs": [],
   "source": [
    "#ADDING FIRST HIDDEN LAYER WITH 30 NEURONS, THE INPUT LAYER WILL BE ADDED AUTOMATICALLY,\n",
    "ann.add(tf.keras.layers.Dense(units = 30, activation = 'relu'))"
   ]
  },
  {
   "cell_type": "code",
   "execution_count": 15,
   "id": "placed-alpha",
   "metadata": {
    "execution": {
     "iopub.execute_input": "2021-06-03T20:08:28.387505Z",
     "iopub.status.busy": "2021-06-03T20:08:28.386633Z",
     "iopub.status.idle": "2021-06-03T20:08:28.388673Z",
     "shell.execute_reply": "2021-06-03T20:08:28.389340Z",
     "shell.execute_reply.started": "2021-06-03T20:05:25.323974Z"
    },
    "papermill": {
     "duration": 0.033404,
     "end_time": "2021-06-03T20:08:28.389523",
     "exception": false,
     "start_time": "2021-06-03T20:08:28.356119",
     "status": "completed"
    },
    "tags": []
   },
   "outputs": [],
   "source": [
    "#ADDING 2ND HIDDEN LAYER WITH 30 NEURONS\n",
    "ann.add(tf.keras.layers.Dense(units = 30, activation = 'relu'))"
   ]
  },
  {
   "cell_type": "code",
   "execution_count": 16,
   "id": "alone-venue",
   "metadata": {
    "execution": {
     "iopub.execute_input": "2021-06-03T20:08:28.441489Z",
     "iopub.status.busy": "2021-06-03T20:08:28.440814Z",
     "iopub.status.idle": "2021-06-03T20:08:28.447255Z",
     "shell.execute_reply": "2021-06-03T20:08:28.446592Z",
     "shell.execute_reply.started": "2021-06-03T20:05:25.338856Z"
    },
    "papermill": {
     "duration": 0.03358,
     "end_time": "2021-06-03T20:08:28.447408",
     "exception": false,
     "start_time": "2021-06-03T20:08:28.413828",
     "status": "completed"
    },
    "tags": []
   },
   "outputs": [],
   "source": [
    "#ADDING 3RD HIDDEN LAYER WITH 30 NEURONS\n",
    "ann.add(tf.keras.layers.Dense(units = 30, activation = 'relu'))"
   ]
  },
  {
   "cell_type": "code",
   "execution_count": 17,
   "id": "armed-lexington",
   "metadata": {
    "execution": {
     "iopub.execute_input": "2021-06-03T20:08:28.503969Z",
     "iopub.status.busy": "2021-06-03T20:08:28.503251Z",
     "iopub.status.idle": "2021-06-03T20:08:28.506673Z",
     "shell.execute_reply": "2021-06-03T20:08:28.506144Z",
     "shell.execute_reply.started": "2021-06-03T20:05:25.354157Z"
    },
    "papermill": {
     "duration": 0.033878,
     "end_time": "2021-06-03T20:08:28.506861",
     "exception": false,
     "start_time": "2021-06-03T20:08:28.472983",
     "status": "completed"
    },
    "tags": []
   },
   "outputs": [],
   "source": [
    "#ADDING 4TH HIDDEN LAYER WITH 30 NEURONS\n",
    "ann.add(tf.keras.layers.Dense(units = 30, activation = 'relu'))"
   ]
  },
  {
   "cell_type": "code",
   "execution_count": 18,
   "id": "confident-mustang",
   "metadata": {
    "execution": {
     "iopub.execute_input": "2021-06-03T20:08:28.563829Z",
     "iopub.status.busy": "2021-06-03T20:08:28.563172Z",
     "iopub.status.idle": "2021-06-03T20:08:28.565067Z",
     "shell.execute_reply": "2021-06-03T20:08:28.565569Z",
     "shell.execute_reply.started": "2021-06-03T20:05:25.369588Z"
    },
    "papermill": {
     "duration": 0.033447,
     "end_time": "2021-06-03T20:08:28.565737",
     "exception": false,
     "start_time": "2021-06-03T20:08:28.532290",
     "status": "completed"
    },
    "tags": []
   },
   "outputs": [],
   "source": [
    "#ADDING OUTPUT LAYER WITH 1 NEURON .\n",
    "ann.add(tf.keras.layers.Dense(units = 1))"
   ]
  },
  {
   "cell_type": "code",
   "execution_count": 19,
   "id": "wanted-korean",
   "metadata": {
    "execution": {
     "iopub.execute_input": "2021-06-03T20:08:28.619654Z",
     "iopub.status.busy": "2021-06-03T20:08:28.618980Z",
     "iopub.status.idle": "2021-06-03T20:08:28.640956Z",
     "shell.execute_reply": "2021-06-03T20:08:28.639592Z",
     "shell.execute_reply.started": "2021-06-03T20:05:25.383995Z"
    },
    "papermill": {
     "duration": 0.050287,
     "end_time": "2021-06-03T20:08:28.641141",
     "exception": false,
     "start_time": "2021-06-03T20:08:28.590854",
     "status": "completed"
    },
    "tags": []
   },
   "outputs": [
    {
     "name": "stdout",
     "output_type": "stream",
     "text": [
      "WARNING:tensorflow:From C:\\Users\\gunja\\anaconda3\\lib\\site-packages\\keras\\src\\optimizers\\__init__.py:309: The name tf.train.Optimizer is deprecated. Please use tf.compat.v1.train.Optimizer instead.\n",
      "\n"
     ]
    }
   ],
   "source": [
    "#COMPILING THE ANN USING STOCHASTIC GRADIENT DESCENT (optimizer = 'adam')\n",
    "ann.compile(optimizer = 'adam',loss = 'mean_squared_error')"
   ]
  },
  {
   "cell_type": "code",
   "execution_count": 22,
   "id": "important-sphere",
   "metadata": {
    "collapsed": true,
    "execution": {
     "iopub.execute_input": "2021-06-03T20:08:28.697976Z",
     "iopub.status.busy": "2021-06-03T20:08:28.697317Z",
     "iopub.status.idle": "2021-06-03T20:10:21.625649Z",
     "shell.execute_reply": "2021-06-03T20:10:21.624992Z",
     "shell.execute_reply.started": "2021-06-03T20:05:25.406298Z"
    },
    "papermill": {
     "duration": 112.958557,
     "end_time": "2021-06-03T20:10:21.625803",
     "exception": false,
     "start_time": "2021-06-03T20:08:28.667246",
     "status": "completed"
    },
    "tags": []
   },
   "outputs": [
    {
     "name": "stdout",
     "output_type": "stream",
     "text": [
      "Epoch 1/10\n",
      "865/865 [==============================] - 2s 2ms/step - loss: 28181483520.0000\n",
      "Epoch 2/10\n",
      "865/865 [==============================] - 2s 2ms/step - loss: 27948705792.0000\n",
      "Epoch 3/10\n",
      "865/865 [==============================] - 2s 2ms/step - loss: 27860703232.0000\n",
      "Epoch 4/10\n",
      "865/865 [==============================] - 2s 2ms/step - loss: 27709544448.0000\n",
      "Epoch 5/10\n",
      "865/865 [==============================] - 2s 2ms/step - loss: 27524478976.0000\n",
      "Epoch 6/10\n",
      "865/865 [==============================] - 2s 2ms/step - loss: 27417587712.0000\n",
      "Epoch 7/10\n",
      "865/865 [==============================] - 2s 2ms/step - loss: 27318714368.0000\n",
      "Epoch 8/10\n",
      "865/865 [==============================] - 2s 3ms/step - loss: 27204894720.0000\n",
      "Epoch 9/10\n",
      "865/865 [==============================] - 2s 2ms/step - loss: 27036809216.0000\n",
      "Epoch 10/10\n",
      "865/865 [==============================] - 2s 2ms/step - loss: 26806362112.0000\n"
     ]
    },
    {
     "data": {
      "text/plain": [
       "<keras.src.callbacks.History at 0x203167a5270>"
      ]
     },
     "execution_count": 22,
     "metadata": {},
     "output_type": "execute_result"
    }
   ],
   "source": [
    "#TRAINING THE ANN WITH BATCH SIZE OF 32 (THIS IS A BATCH LEARNING)\n",
    "ann.fit(x_train,y_train,batch_size = 20,epochs = 10)"
   ]
  },
  {
   "cell_type": "code",
   "execution_count": 23,
   "id": "coastal-basics",
   "metadata": {
    "execution": {
     "iopub.execute_input": "2021-06-03T20:10:23.112452Z",
     "iopub.status.busy": "2021-06-03T20:10:23.111724Z",
     "iopub.status.idle": "2021-06-03T20:10:23.319918Z",
     "shell.execute_reply": "2021-06-03T20:10:23.319338Z",
     "shell.execute_reply.started": "2021-06-03T20:07:06.930885Z"
    },
    "papermill": {
     "duration": 0.938423,
     "end_time": "2021-06-03T20:10:23.320114",
     "exception": false,
     "start_time": "2021-06-03T20:10:22.381691",
     "status": "completed"
    },
    "tags": []
   },
   "outputs": [
    {
     "name": "stdout",
     "output_type": "stream",
     "text": [
      "136/136 [==============================] - 0s 2ms/step\n"
     ]
    },
    {
     "data": {
      "text/plain": [
       "array([[ 386418.97,  297000.  ],\n",
       "       [1754296.75, 1578000.  ],\n",
       "       [ 568966.25,  562100.  ],\n",
       "       ...,\n",
       "       [ 356514.91,  369950.  ],\n",
       "       [ 267534.94,  300000.  ],\n",
       "       [ 409139.19,  575950.  ]])"
      ]
     },
     "execution_count": 23,
     "metadata": {},
     "output_type": "execute_result"
    }
   ],
   "source": [
    "#COMPARING ACTUAL VALUES WITH PREDICTED VALUES\n",
    "np.set_printoptions(precision=2)\n",
    "y_pred = ann.predict(x_test)\n",
    "np.concatenate((y_pred,y_test.reshape(-1,1)),1)"
   ]
  },
  {
   "cell_type": "markdown",
   "id": "fa172370",
   "metadata": {},
   "source": [
    "## Accuracy and evaluation"
   ]
  },
  {
   "cell_type": "code",
   "execution_count": 24,
   "id": "primary-rainbow",
   "metadata": {
    "execution": {
     "iopub.execute_input": "2021-06-03T20:10:24.821873Z",
     "iopub.status.busy": "2021-06-03T20:10:24.820843Z",
     "iopub.status.idle": "2021-06-03T20:10:24.937407Z",
     "shell.execute_reply": "2021-06-03T20:10:24.937910Z",
     "shell.execute_reply.started": "2021-06-03T20:07:07.097078Z"
    },
    "papermill": {
     "duration": 0.85226,
     "end_time": "2021-06-03T20:10:24.938109",
     "exception": false,
     "start_time": "2021-06-03T20:10:24.085849",
     "status": "completed"
    },
    "tags": []
   },
   "outputs": [
    {
     "name": "stdout",
     "output_type": "stream",
     "text": [
      "136/136 [==============================] - 0s 2ms/step\n",
      "0.792683592857768\n"
     ]
    }
   ],
   "source": [
    "#GETTING ACCURACY\n",
    "from sklearn.metrics import r2_score\n",
    "y_pred = ann.predict(x_test)\n",
    "print(r2_score(y_test,y_pred))"
   ]
  },
  {
   "cell_type": "markdown",
   "id": "undefined-thanks",
   "metadata": {
    "papermill": {
     "duration": 0.728213,
     "end_time": "2021-06-03T20:10:26.491833",
     "exception": false,
     "start_time": "2021-06-03T20:10:25.763620",
     "status": "completed"
    },
    "tags": []
   },
   "source": [
    "**I GOT AN ACCURACY OF AROUND 79% TUNING THE HYPERPARAMETERS MAY INCREASE THE ACCURACY**"
   ]
  },
  {
   "cell_type": "code",
   "execution_count": null,
   "id": "329da6e2",
   "metadata": {},
   "outputs": [],
   "source": []
  }
 ],
 "metadata": {
  "kernelspec": {
   "display_name": "Python 3 (ipykernel)",
   "language": "python",
   "name": "python3"
  },
  "language_info": {
   "codemirror_mode": {
    "name": "ipython",
    "version": 3
   },
   "file_extension": ".py",
   "mimetype": "text/x-python",
   "name": "python",
   "nbconvert_exporter": "python",
   "pygments_lexer": "ipython3",
   "version": "3.10.9"
  },
  "papermill": {
   "default_parameters": {},
   "duration": 137.955145,
   "end_time": "2021-06-03T20:10:29.059828",
   "environment_variables": {},
   "exception": null,
   "input_path": "__notebook__.ipynb",
   "output_path": "__notebook__.ipynb",
   "parameters": {},
   "start_time": "2021-06-03T20:08:11.104683",
   "version": "2.3.3"
  }
 },
 "nbformat": 4,
 "nbformat_minor": 5
}
